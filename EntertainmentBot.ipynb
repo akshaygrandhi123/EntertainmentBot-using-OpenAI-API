{
 "cells": [
  {
   "cell_type": "code",
   "execution_count": 1,
   "id": "7fa0d9b5",
   "metadata": {
    "height": 115,
    "tags": []
   },
   "outputs": [],
   "source": [
    "import os\n",
    "import openai\n",
    "from dotenv import load_dotenv, find_dotenv\n",
    "_ = load_dotenv(find_dotenv())\n",
    "\n",
    "openai.api_key  = os.getenv('OPENAI_API_KEY')"
   ]
  },
  {
   "cell_type": "code",
   "execution_count": 2,
   "id": "f5308d65",
   "metadata": {
    "height": 285,
    "tags": []
   },
   "outputs": [],
   "source": [
    "def get_completion(prompt, model=\"gpt-3.5-turbo\"):\n",
    "    messages = [{\"role\": \"user\", \"content\": prompt}]\n",
    "    response = openai.ChatCompletion.create(\n",
    "        model=model,\n",
    "        messages=messages,\n",
    "        temperature=0, \n",
    "    )\n",
    "    return response.choices[0].message[\"content\"]\n",
    "\n",
    "def get_completion_from_messages(messages, model=\"gpt-3.5-turbo\", temperature=0):\n",
    "    response = openai.ChatCompletion.create(\n",
    "        model=model,\n",
    "        messages=messages,\n",
    "        temperature=temperature, \n",
    "    )\n",
    "    return response.choices[0].message[\"content\"]"
   ]
  },
  {
   "cell_type": "markdown",
   "id": "dedba66a-58b0-40d4-b9ae-47e79ae22328",
   "metadata": {
    "id": "bBg_MpXeYnTq"
   },
   "source": [
    "# EntertainmentBot\n",
    "We can automate the collection of user prompts and assistant responses to build a  EntertainmentBot. The EntertainmentBot will provide you a list of movies or books based on the user preference. "
   ]
  },
  {
   "cell_type": "code",
   "execution_count": 6,
   "id": "e76749ac",
   "metadata": {
    "height": 251,
    "tags": []
   },
   "outputs": [],
   "source": [
    "def collect_messages(_):\n",
    "    prompt = inp.value_input\n",
    "    inp.value = ''\n",
    "    context.append({'role':'user', 'content':f\"{prompt}\"})\n",
    "    response = get_completion_from_messages(context) \n",
    "    context.append({'role':'assistant', 'content':f\"{response}\"})\n",
    "    panels.append(\n",
    "        pn.Row('User:', pn.pane.Markdown(prompt, width=600)))\n",
    "    panels.append(\n",
    "        pn.Row('Assistant:', pn.pane.Markdown(response, width=600, style={'background-color': '#F6F6F6'})))\n",
    " \n",
    "    return pn.Column(*panels)\n"
   ]
  },
  {
   "cell_type": "code",
   "execution_count": null,
   "id": "474b557c",
   "metadata": {
    "height": 1305,
    "tags": []
   },
   "outputs": [],
   "source": [
    "import panel as pn \n",
    "pn.extension()\n",
    "\n",
    "panels = [] \n",
    "\n",
    "context = [ {\"role\": \"system\", \"content\": \"\"\"\n",
    "You are EntertainmentBot, an automated service to recommend entertainment options and engage users with fun content. \n",
    "You first greet the user, then ask for their preferences in terms of genre or type of entertainment. \n",
    "You then provide recommendations for movies, TV series, music, games, or books based on their input. \n",
    "Engage users with trivia, jokes, or stories throughout the conversation. \n",
    "Make sure to clarify the genre and provide options to uniquely identify the item from the list. \n",
    "You respond in a short, very conversational friendly style.\n",
    "The available genres include:\n",
    "Movies: \n",
    "- Action: Mad Max: Fury Road, Die Hard, The Dark Knight, John Wick, Gladiator\n",
    "- Comedy: Superbad, The Big Lebowski, Groundhog Day, Step Brothers, Anchorman\n",
    "- Drama: The Shawshank Redemption, Forrest Gump, The Godfather, A Beautiful Mind, Schindler's List\n",
    "- Fantasy: The Lord of the Rings, Harry Potter, The Hobbit, Pan's Labyrinth, Stardust\n",
    "- Horror: The Exorcist, Get Out, The Shining, It, A Nightmare on Elm Street\n",
    "- Sci-Fi: Blade Runner, Inception, The Matrix, Interstellar, The Terminator\n",
    "\n",
    "TV Series: \n",
    "- Action: The Mandalorian, 24, Arrow, Daredevil, The Boys\n",
    "- Comedy: Friends, The Office, Parks and Recreation, Brooklyn Nine-Nine, How I Met Your Mother\n",
    "- Drama: Breaking Bad, The Crown, The Handmaid's Tale, This Is Us, Grey's Anatomy\n",
    "- Fantasy: Game of Thrones, The Witcher, Stranger Things, His Dark Materials, Merlin\n",
    "- Horror: American Horror Story, The Haunting of Hill House, Stranger Things, The Walking Dead, Bates Motel\n",
    "- Sci-Fi: Black Mirror, Westworld, Doctor Who, The Expanse, Stranger Things\n",
    "\n",
    "Music: \n",
    "- Pop: Taylor Swift, Ariana Grande, Justin Bieber, Billie Eilish, Ed Sheeran\n",
    "- Rock: The Beatles, Led Zeppelin, Queen, Nirvana, Pink Floyd\n",
    "- Hip-Hop: Kendrick Lamar, Drake, Kanye West, Jay-Z, Eminem\n",
    "- Classical: Beethoven, Mozart, Bach, Tchaikovsky, Chopin\n",
    "- Jazz: Miles Davis, John Coltrane, Louis Armstrong, Duke Ellington, Ella Fitzgerald\n",
    "- Country: Johnny Cash, Dolly Parton, Willie Nelson, Shania Twain, Garth Brooks\n",
    "\n",
    "Games:\n",
    "- Action: The Legend of Zelda: Breath of the Wild, Grand Theft Auto V, Assassin's Creed Odyssey, Red Dead Redemption 2, Doom Eternal\n",
    "- Adventure: The Last of Us, Uncharted, Tomb Raider, Life is Strange, Firewatch\n",
    "- RPG: The Witcher 3: Wild Hunt, Skyrim, Final Fantasy VII, Persona 5, Dragon Age: Inquisition\n",
    "- Strategy: Civilization VI, StarCraft II, XCOM 2, Age of Empires II, Total War: Warhammer II\n",
    "- Sports: FIFA, NBA 2K, Madden NFL, Rocket League, Tony Hawk's Pro Skater\n",
    "\n",
    "Books:\n",
    "- Fiction: To Kill a Mockingbird, 1984, The Great Gatsby, Harry Potter series, The Catcher in the Rye\n",
    "- Mystery: The Girl with the Dragon Tattoo, Gone Girl, The Da Vinci Code, Big Little Lies, Sherlock Holmes series\n",
    "- Fantasy: The Hobbit, A Song of Ice and Fire series, The Name of the Wind, The Wheel of Time series, The Chronicles of Narnia\n",
    "- Sci-Fi: Dune, Ender's Game, Foundation series, Neuromancer, The Left Hand of Darkness\n",
    "- Non-Fiction: Sapiens, Educated, The Immortal Life of Henrietta Lacks, Becoming, The Wright Brothers\n",
    "\n",
    "Trivia:\n",
    "- Fun facts about movies, TV series, music, games, and books.\n",
    "- Historical trivia, pop culture trivia, and general knowledge trivia.\n",
    "\n",
    "Jokes:\n",
    "- A variety of jokes ranging from puns, knock-knock jokes, and one-liners to engage and entertain users.\n",
    "\n",
    "Stories:\n",
    "- Short stories, anecdotes, and interesting tales to share with users based on their interests.\n",
    "\"\"\"} ]\n",
    "\n",
    "\n",
    "inp = pn.widgets.TextInput(value=\"Hi\", placeholder='Enter text here…')\n",
    "button_conversation = pn.widgets.Button(name=\"Chat!\")\n",
    "\n",
    "interactive_conversation = pn.bind(collect_messages, button_conversation)\n",
    "\n",
    "dashboard = pn.Column(\n",
    "    inp,\n",
    "    pn.Row(button_conversation),\n",
    "    pn.panel(interactive_conversation, loading_indicator=True, height=300),\n",
    ")\n",
    "\n",
    "dashboard"
   ]
  },
  {
   "cell_type": "code",
   "execution_count": null,
   "id": "a0ee11b9",
   "metadata": {
    "height": 166
   },
   "outputs": [],
   "source": [
    "messages = context.copy()\n",
    "messages.append(\n",
    "{'role':'system', 'content':'create a json summary of the user\\'s entertainment preferences. Itemize the recommendations based on genre and type of entertainment. The fields should be: 1) list of movies 2) list of TV series 3) list of music 4) list of games 5) list of books 6) any additional trivia, jokes, or stories shared during the conversation.'},\n",
    ")\n",
    "\n",
    "response = get_completion_from_messages(messages, temperature=0)\n",
    "print(response)\n"
   ]
  }
 ],
 "metadata": {
  "kernelspec": {
   "display_name": "Python 3 (ipykernel)",
   "language": "python",
   "name": "python3"
  },
  "language_info": {
   "codemirror_mode": {
    "name": "ipython",
    "version": 3
   },
   "file_extension": ".py",
   "mimetype": "text/x-python",
   "name": "python",
   "nbconvert_exporter": "python",
   "pygments_lexer": "ipython3",
   "version": "3.9.19"
  }
 },
 "nbformat": 4,
 "nbformat_minor": 5
}
